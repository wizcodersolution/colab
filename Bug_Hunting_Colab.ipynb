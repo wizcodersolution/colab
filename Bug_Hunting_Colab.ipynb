{
  "nbformat": 4,
  "nbformat_minor": 0,
  "metadata": {
    "colab": {
      "name": "Bug Hunting Colab",
      "provenance": [],
      "collapsed_sections": [
        "Cqy3vXXOMI06",
        "wZMZjX127rmx",
        "JXsqLabj3uhU",
        "i5K4z5KBuGEx",
        "kFQ2LUeT4TS4",
        "0xI8WiUPji3k",
        "HsvEZZy0hrp6",
        "fhxnTTEh50RN"
      ],
      "machine_shape": "hm",
      "include_colab_link": true
    },
    "kernelspec": {
      "display_name": "Python 3",
      "name": "python3"
    },
    "accelerator": "GPU"
  },
  "cells": [
    {
      "cell_type": "markdown",
      "metadata": {
        "id": "view-in-github",
        "colab_type": "text"
      },
      "source": [
        "<a href=\"https://colab.research.google.com/github/wizcodersolution/colab/blob/main/Bug_Hunting_Colab.ipynb\" target=\"_parent\"><img src=\"https://colab.research.google.com/assets/colab-badge.svg\" alt=\"Open In Colab\"/></a>"
      ]
    },
    {
      "cell_type": "markdown",
      "metadata": {
        "id": "IljQPB_Ydcn4"
      },
      "source": [
        "#    ✧ Bug Bounty VPS - Made By [Hacking Guy](https://github.com/hackingguy)\n",
        "\n",
        "1. Click On JS Code Below To Make It Alive\n",
        "2. Then Execute Bug Bounty Hunting Cell And Wait For 10 Minutes \n",
        "3. You Can Enable Create VNC, if you want GUI Mode\n",
        "4. In Case Of Any Problem Execute Crash Colab And Restart!"
      ]
    },
    {
      "cell_type": "markdown",
      "metadata": {
        "id": "3Z8cK8h2Avbv"
      },
      "source": [
        "# Copy Below Javascript And Paste In Your Console **After Connecting**\n",
        "<code>function ClickConnect(){\n",
        "console.log(\"Working\"); \n",
        "document.querySelector(\"colab-connect-button\").click() \n",
        "}setInterval(ClickConnect,60000)</code>\n",
        "\n",
        "### And don't Close This Tab"
      ]
    },
    {
      "cell_type": "markdown",
      "metadata": {
        "id": "wZMZjX127rmx"
      },
      "source": [
        "## ✧ Crash Colab to clear all RAM"
      ]
    },
    {
      "cell_type": "code",
      "metadata": {
        "id": "OH3xVkwWmPYL"
      },
      "source": [
        "#@title ← ឵឵ ឵Run this cell to crash your current Runtime if you're low on memory\n",
        "#@markdown <i>After crashing, you'll have access to all the preoccupied storage</i>\n",
        "some_str = ' ' * 5120000000000"
      ],
      "execution_count": null,
      "outputs": []
    },
    {
      "cell_type": "markdown",
      "metadata": {
        "id": "evvwMGR5KKXm"
      },
      "source": [
        "## <img src=\"https://hackingguy.ml/assets/images/hacker.png\" height=\"50\" alt=\"filebrowser\" /> [Bug Bounty Hunting](https://github.com/hackingguy)\n"
      ]
    },
    {
      "cell_type": "code",
      "metadata": {
        "cellView": "form",
        "id": "2xhAQLgvKL11",
        "outputId": "a4bc92fd-5cd3-47ba-8ce1-6ee6b5671a47",
        "colab": {
          "base_uri": "https://localhost:8080/",
          "height": 75
        }
      },
      "source": [
        "#@markdown <h3>⬅️ Click Here to Install Tools And Create SSH Tunnel</h3>\n",
        "#@markdown <br><center><img src='https://raw.githubusercontent.com/hackingguy/hackingguy.github.io/master/assets/images/logo.png' height=\"200\" alt=\"ssh\"/></center>\n",
        "#@markdown <center><h3>Bug Hunting VPS </h3></center><br>\n",
        "import os\n",
        "import random\n",
        "import string\n",
        "import urllib.request\n",
        "import requests\n",
        "from urllib.parse import quote\n",
        "from IPython.display import HTML, clear_output\n",
        "import time\n",
        "\n",
        "#####################################\n",
        "USE_FREE_TOKEN = False #Free Token Disabled\n",
        "CREATE_VNC = False # @param {type:\"boolean\"}\n",
        "CREATE_SSH = False # @param {type:\"boolean\"}Are you invoking ngrok asking for a TCP tunnel? (ngrok -proto=tcp 5901)\n",
        "TOKEN = \"1gcX0duhDO0wFdCxmhREJJozZaW_2vTjHouBZoDdEC24qYroe\"  # @param {type:\"string\"}\n",
        "USE_TELERGAM_BOT = False # @param {type:\"boolean\"}\n",
        "TELEGRAM_API_TOKEN = \"\" # @param {type:\"string\"}\n",
        "TELEGRAM_CHAT_ID = \"\" # @param {type:\"string\"}\n",
        "\n",
        "#Script Credit Goes To https://github.com/unethicalnoob/\n",
        "TOOLS_GIST = \"https://raw.githubusercontent.com/wizcodersolution/colab/main/bbhtv2.sh\" # @param {type:\"string\"}\n",
        "#@markdown <center><h3>Note: Latest Golang Version Will Be Installed Even If You Change Gist</center>\n",
        "#@markdown <center><h3>So Please Don't Write Go Installation In Gist Script</h3></center>\n",
        "\n",
        "HOME = os.path.expanduser(\"~\")\n",
        "runW = get_ipython()\n",
        "Version = '2.0.0'\n",
        "\n",
        "\n",
        "if not os.path.exists(f\"{HOME}/.ipython/ttmg.py\"):\n",
        "    hCode = \"https://raw.githubusercontent.com/hackingguy/Bug-Bounty-Colab/master/ttmg.py\"\n",
        "    urllib.request.urlretrieve(hCode, f\"{HOME}/.ipython/ttmg.py\")\n",
        "\n",
        "from ttmg import (\n",
        "    runSh,\n",
        "    loadingAn,\n",
        "    ngrok,\n",
        "    displayUrl,\n",
        "    findProcess,\n",
        "    CWD,\n",
        "    textAn,\n",
        "    updateCheck,\n",
        ")\n",
        "\n",
        "if updateCheck(\"Checking updates ...\", Version):  # VERSION CHECKING ...\n",
        "    !kill -9 -1 &\n",
        "clear_output()\n",
        "\n",
        "def tgnotify(bot_message):\n",
        "    send_text = 'https://api.telegram.org/bot' + TELEGRAM_API_TOKEN + '/sendMessage?chat_id=' + TELEGRAM_CHAT_ID + '&parse_mode=Markdown&text=' + quote(bot_message)\n",
        "    res = requests.get(send_text)\n",
        "\n",
        "\n",
        "loadingAn()\n",
        "\n",
        "# password generate\n",
        "try:\n",
        "  print(f\"Found old password! : {password}\")\n",
        "except:\n",
        "  password = ''.join(random.choice(string.ascii_letters + string.digits) for i in range(20))\n",
        "\n",
        "textAn(\"updating system packages...\")\n",
        "runW.system_raw('apt-get update && apt-get -y upgrade')\n",
        "#Set root password\n",
        "if CREATE_SSH  and os.path.exists('/var/run/sshd') == False:\n",
        "  #Setup sshdsshd9\n",
        "  runSh('apt install -qq -o=Dpkg::Use-Pty=0 openssh-server pwgen')\n",
        "  runW.system_raw(\"echo root:$password | chpasswd\")\n",
        "  os.makedirs(\"/var/run/sshd\", exist_ok=True)\n",
        "  runW.system_raw('echo \"PermitRootLogin yes\" >> /etc/ssh/sshd_config')\n",
        "  runW.system_raw('echo \"PasswordAuthentication yes\" >> /etc/ssh/sshd_config')\n",
        "  runW.system_raw('echo \"ClientAliveInterval 0\" >> /etc/ssh/sshd_config')\n",
        "  runW.system_raw('echo \"ClientAliveCountMax 3\" >> /etc/ssh/sshd_config')\n",
        "  runW.system_raw('echo \"LD_LIBRARY_PATH=/usr/lib64-nvidia:/usr/local/nvidia/lib:/usr/local/nvidia/lib64:/usr/lib\" >> /root/.bashrc')\n",
        "  runW.system_raw('echo \"export LD_LIBRARY_PATH\" >> /root/.bashrc')\n",
        "\n",
        "  #Run sshd\n",
        "  if not findProcess(\"/usr/sbin/sshd\", command=\"-D\"):\n",
        "    runSh('/usr/sbin/sshd -D &', shell=True)\n",
        "\n",
        "if CREATE_VNC:\n",
        "  clear_output()\n",
        "\n",
        "  textAn(\"Wait for almost 2 minutes. It's doing for VNC ready...\")\n",
        "  os.makedirs(f'{HOME}/.vnc', exist_ok=True)\n",
        "  runW.system_raw('add-apt-repository -y ppa:apt-fast/stable < /dev/null')\n",
        "  runW.system_raw('echo debconf apt-fast/maxdownloads string 16 | debconf-set-selections')\n",
        "  runW.system_raw('echo debconf apt-fast/dlflag boolean true | debconf-set-selections')\n",
        "  runW.system_raw('echo debconf apt-fast/aptmanager string apt-get | debconf-set-selections')\n",
        "  runW.system_raw('apt install -y apt-fast dialog apt-utils')\n",
        "  runW.system_raw('apt-fast install -y sshpass xfce4 xfce4-goodies firefox tigervnc-standalone-server tigervnc-common xorg dbus-x11 x11-xserver-utils tigervnc-xorg-extension')\n",
        "  runW.system_raw(rf'echo \"{password}\" | vncpasswd -f > ~/.vnc/passwd')\n",
        "  data = \"\"\"\n",
        "#!/bin/bash\n",
        "xrdb $HOME/.Xresources\n",
        "startxfce4 &\n",
        "\"\"\"\n",
        "  with open(f'{HOME}/.vnc/xstartup', 'w+') as wNow:\n",
        "    wNow.write(data)\n",
        "  os.chmod(f'{HOME}/.vnc/xstartup', 0o755)\n",
        "  os.chmod(f'{HOME}/.vnc/passwd', 0o400)\n",
        "  runW.system_raw(rf'sshpass -p \"{password}\" ssh -o StrictHostKeyChecking=no root@127.0.0.1 \"vncserver -depth 32 -geometry 1366x768 &\"')\n",
        "  runSh(f'git clone https://github.com/novnc/noVNC.git {CWD}/noVNC')\n",
        "  runSh(\"bash noVNC/utils/launch.sh --listen 6080 --vnc localhost:5901 &\",\n",
        "        shell=True)\n",
        "  #end = time.time()\n",
        "\n",
        "#few necessory tools\n",
        "runW.system_raw('sudo apt-get install -y tmux vim htop net-tools')\n",
        "runW.system_raw('wget -q -O - https://gist.githubusercontent.com/hackingguy/e0e401636e38551f8fa3d793bb371110/raw/1970f5de3b273896283d5e6e54a1b628594ef814/latest-go.sh | bash')\n",
        "runW.system_raw('export GOROOT=$HOME/.go && export PATH=$GOROOT/bin:$PATH && export GOPATH=$HOME/go && curl '+TOOLS_GIST+' | bash ')\n",
        "# bash aliases for tools from unethicalnoob\n",
        "runW.system_raw('wget -q -O - https://raw.githubusercontent.com/unethicalnoob/aliases/master/bashprofile > ~/.bash_aliases && source ~/.bash_aliases')\n",
        "# START_SERVER\n",
        "# Ngrok region 'us','eu','ap','au','sa','jp','in'\n",
        "clear_output()\n",
        "Server = ngrok(TOKEN, USE_FREE_TOKEN, [['ssh', 22, 'tcp'],\n",
        "               ['vnc', 6080, 'http']], 'in',\n",
        "               [f\"{HOME}/.ngrok2/sshVnc.yml\", 4045])\n",
        "data = Server.start('ssh', displayB=False)\n",
        "# output\n",
        "Host,port = data['url'][7:].split(':')\n",
        "data2 = Server.start('vnc', displayB=False)\n",
        "clear_output()\n",
        "\n",
        "if USE_TELERGAM_BOT:\n",
        "  tgnotify(\"noVNC URL: \"+data2['url']+\"/vnc.html?autoconnect=true&password=\"+password)\n",
        "  tgnotify(\"SSH Details:\\nHost:\"+Host+\"\\nPort:\"+port+\"\\nPassword:\"+password)\n",
        "  tgnotify(\"ssh -L 5901:127.0.0.1:5901 -N -f -l root \"+Host+\" -p \"+port)\n",
        "  runW.system_raw('git clone --quiet https://github.com/botgram/shell-bot && cd shell-bot && npm install --quiet && npm install --quiet pm2 -g && echo \"{ \\\\\"authToken\\\\\":\\\\\"'+TELEGRAM_API_TOKEN+'\\\\\",\\\\\"owner\\\\\":'+TELEGRAM_CHAT_ID+' }\" > config.json && pm2 start server.js')\n",
        "  tgnotify(password)\n",
        "\n",
        "if CREATE_VNC:\n",
        "  displayUrl(data2, pNamU='noVnc : ',\n",
        "            EcUrl=f'/vnc.html?autoconnect=true&password={password}')\n",
        "\n",
        "if CREATE_SSH:\n",
        "  display(HTML(\"\"\"<style>@import url('https://fonts.googleapis.com/css?family=Source+Code+Pro:200,900');  :root {   --text-color: hsla(210, 50%, 85%, 1);   --shadow-color: hsla(210, 40%, 52%, .4);   --btn-color: hsl(210, 80%, 42%);   --bg-color: #141218; }  * {   box-sizing: border-box; } button { position:relative; padding: 10px 20px;     border: none;   background: none;      font-family: \"Source Code Pro\";   font-weight: 900;font-size: 20px;     color: var(--text-color);      background-color: var(--btn-color);   box-shadow: var(--shadow-color) 2px 2px 22px;   border-radius: 4px;    z-index: 0;overflow: hidden; -webkit-user-select: text;-moz-user-select: text;-ms-user-select: text;user-select: text;}  button:focus {   outline-color: transparent;   box-shadow: var(--btn-color) 2px 2px 22px; }  .right::after, button::after {   content: var(--content);   display: block;   position: absolute;   white-space: nowrap;   padding: 40px 40px;   pointer-events:none; }  button::after{   font-weight: 200;   top: -30px;   left: -20px; }   .right, .left {   position: absolute;   width: 100%;   height: 100%;   top: 0; } .right {   left: 66%; } .left {   right: 66%; } .right::after {   top: -30px;   left: calc(-66% - 20px);      background-color: var(--bg-color);   color:transparent;   transition: transform .4s ease-out;   transform: translate(0, -90%) rotate(0deg) }  button:hover .right::after {   transform: translate(0, -47%) rotate(0deg) }  button .right:hover::after {   transform: translate(0, -50%) rotate(-7deg) }  button .left:hover ~ .right::after {   transform: translate(0, -50%) rotate(7deg) }  /* bubbles */ button::before {   content: '';   pointer-events: none;   opacity: .6;   background:     radial-gradient(circle at 20% 35%,  transparent 0,  transparent 2px, var(--text-color) 3px, var(--text-color) 4px, transparent 4px),     radial-gradient(circle at 75% 44%, transparent 0,  transparent 2px, var(--text-color) 3px, var(--text-color) 4px, transparent 4px),     radial-gradient(circle at 46% 52%, transparent 0, transparent 4px, var(--text-color) 5px, var(--text-color) 6px, transparent 6px);    width: 100%;   height: 300%;   top: 0;   left: 0;   position: absolute;   animation: bubbles 5s linear infinite both; }  @keyframes bubbles {   from {     transform: translate();   }   to {     transform: translate(0, -66.666%);   } }.zui-table {    border: solid 1px #DDEEEE;    border-collapse: collapse;    border-spacing: 0;    font: normal 13px;}.zui-table thead th {    background-color: #DDEFEF;    border: solid 1px #DDEEEE;    color: #0000009e;    padding: 10px;    text-align: left;}.zui-table tbody td {border: solid 1px #effff97a;color: #ffffffd1;    padding: 10px;}</style><center><button><table class=\"zui-table blueBG\"><p>SSH config<p><thead>        <tr>        <th>Host</th>            <th>Port</th>        <th>Password</th> </tr>    </thead>    <tbody>        <tr><td>\"\"\"+Host+\"\"\"</td><td>\"\"\"+port+\"\"\"</td><td>\"\"\"+password+\"\"\"</td></tr></tbody></table><center><br><table class=\"zui-table blueBG\"><thead>        <tr>        <th>Simple ssh command</th></tr>    </thead>    <tbody>        <tr><td>ssh root@\"\"\"+Host+\"\"\" -p \"\"\"+port+\"\"\"</td></tr></tbody></table></center><a target=\"_blank\" style=\"text-decoration: none;color: hsla(210, 50%, 85%, 1);font-size: 10px;\" href=\"http://bit.ly/2RDhV0c\">NB. How to setup this's config. [Click ME]</a></button><center>\"\"\"))\n",
        "  display(HTML(\"<br>\"))\n",
        "\n",
        "if CREATE_VNC:\n",
        "    display(HTML(\"\"\"<style>@import url('https://fonts.googleapis.com/css?family=Source+Code+Pro:200,900');  :root {   --text-color: hsla(210, 50%, 85%, 1);   --shadow-color: hsla(210, 40%, 52%, .4);   --btn-color: hsl(210, 80%, 42%);   --bg-color: #141218; }  * {   box-sizing: border-box; } button { position:relative; padding: 10px 20px;     border: none;   background: none;      font-family: \"Source Code Pro\";   font-weight: 900;font-size: 20px;     color: var(--text-color);      background-color: var(--btn-color);   box-shadow: var(--shadow-color) 2px 2px 22px;   border-radius: 4px;    z-index: 0;overflow: hidden; -webkit-user-select: text;-moz-user-select: text;-ms-user-select: text;user-select: text;}  button:focus {   outline-color: transparent;   box-shadow: var(--btn-color) 2px 2px 22px; }  .right::after, button::after {   content: var(--content);   display: block;   position: absolute;   white-space: nowrap;   padding: 40px 40px;   pointer-events:none; }  button::after{   font-weight: 200;   top: -30px;   left: -20px; } .center{ margin-left: auto; margin-right: auto; };   .right, .left {   position: absolute;   width: 100%;   height: 100%;   top: 0; } .right {   left: 66%; } .left {   right: 66%; } .right::after {   top: -30px;   left: calc(-66% - 20px);      background-color: var(--bg-color);   color:transparent;   transition: transform .4s ease-out;   transform: translate(0, -90%) rotate(0deg) }  button:hover .right::after {   transform: translate(0, -47%) rotate(0deg) }  button .right:hover::after {   transform: translate(0, -50%) rotate(-7deg) }  button .left:hover ~ .right::after {   transform: translate(0, -50%) rotate(7deg) }  /* bubbles */ button::before {   content: '';   pointer-events: none;   opacity: .6;   background:     radial-gradient(circle at 20% 35%,  transparent 0,  transparent 2px, var(--text-color) 3px, var(--text-color) 4px, transparent 4px),     radial-gradient(circle at 75% 44%, transparent 0,  transparent 2px, var(--text-color) 3px, var(--text-color) 4px, transparent 4px),     radial-gradient(circle at 46% 52%, transparent 0, transparent 4px, var(--text-color) 5px, var(--text-color) 6px, transparent 6px);    width: 100%;   height: 300%;   top: 0;   left: 0;   position: absolute;   animation: bubbles 5s linear infinite both; }  @keyframes bubbles {   from {     transform: translate();   }   to {     transform: translate(0, -66.666%);   } }.zui-table {    border: solid 1px #DDEEEE;    border-collapse: collapse;    border-spacing: 0;    font: normal 13px;}.zui-table thead th {    background-color: #DDEFEF;    border: solid 1px #DDEEEE;    color: #0000009e;    padding: 10px;    text-align: left;}.zui-table tbody td {border: solid 1px #effff97a;color: #ffffffd1;    padding: 10px;}</style><center><button><table class=\"zui-table blueBG center\"><p>VNC config(Desktop)<p><thead>        <tr>        <th>Host</th>            <th>Port</th>        <th>Password</th> </tr>    </thead>    <tbody>        <tr><td>\"\"\"+Host+\"\"\"</td><td>\"\"\"+port+\"\"\"</td><td>\"\"\"+password+\"\"\"</td></tr></tbody></table><center><br><table class=\"zui-table blueBG\"><thead>        <tr>        <th>Step 1.Create ssh-tunnel</th></tr>    </thead>    <tbody>        <tr><td>ssh -L 5901:127.0.0.1:5901 -N -f -l root \"\"\"+Host+\"\"\" -p \"\"\"+port+\"\"\"</td></tr></tbody></table><table class=\"zui-table blueBG\"><thead>     <br>   <tr>        <th>Step 2.Connect from VNC viewer(Set Encryption None)</th></tr>    </thead>    <tbody>        <tr><td>127.0.0.1:5901 \"\"\"+password+\"\"\"</td></tr></tbody></table>\"\"\"))\n"
      ],
      "execution_count": null,
      "outputs": [
        {
          "output_type": "display_data",
          "data": {
            "text/html": [
              "<style>.lds-ring {   display: inline-block;   position: relative;   width: 34px;   height: 34px; } .lds-ring div {   box-sizing: border-box;   display: block;   position: absolute;   width: 34px;   height: 34px;   margin: 4px;   border: 5px solid #cef;   border-radius: 50%;   animation: lds-ring 1.2s cubic-bezier(0.5, 0, 0.5, 1) infinite;   border-color: #cef transparent transparent transparent; } .lds-ring div:nth-child(1) {   animation-delay: -0.45s; } .lds-ring div:nth-child(2) {   animation-delay: -0.3s; } .lds-ring div:nth-child(3) {   animation-delay: -0.15s; } @keyframes lds-ring {   0% {     transform: rotate(0deg);   }   100% {     transform: rotate(360deg);   } }</style><div class=\"lds-ring\"><div></div><div></div><div></div><div></div></div>"
            ],
            "text/plain": [
              "<IPython.core.display.HTML object>"
            ]
          },
          "metadata": {
            "tags": []
          }
        },
        {
          "output_type": "display_data",
          "data": {
            "text/html": [
              "<style>@import url(https://fonts.googleapis.com/css?family=Raleway:400,700,900,400italic,700italic,900italic);#wrapper {   font: 17px 'Raleway', sans-serif;animation: text-shadow 1.5s ease-in-out infinite;    margin-left: auto;    margin-right: auto;    }#container {    display: flex;    flex-direction: column;    float: left;     }@keyframes text-shadow { 0% 20% {          transform: translateY(-0.1em);        text-shadow:             0 0.1em 0 #0c2ffb,             0 0.1em 0 #2cfcfd,             0 -0.1em 0 #fb203b,             0 -0.1em 0 #fefc4b;    }    40% {          transform: translateY(0.1em);        text-shadow:             0 -0.1em 0 #0c2ffb,             0 -0.1em 0 #2cfcfd,             0 0.1em 0 #fb203b,             0 0.1em 0 #fefc4b;    }       60% {        transform: translateY(-0.1em);        text-shadow:             0 0.1em 0 #0c2ffb,             0 0.1em 0 #2cfcfd,             0 -0.1em 0 #fb203b,             0 -0.1em 0 #fefc4b;    }   }@media (prefers-reduced-motion: reduce) {    * {      animation: none !important;      transition: none !important;    }}</style><div id=\"wrapper\"><div id=\"container\">updating system packages...</div></div>"
            ],
            "text/plain": [
              "<IPython.core.display.HTML object>"
            ]
          },
          "metadata": {
            "tags": []
          }
        }
      ]
    },
    {
      "cell_type": "markdown",
      "metadata": {
        "id": "ZjpySPiRedTA"
      },
      "source": [
        "# <img src=\"https://upload.wikimedia.org/wikipedia/commons/thumb/d/da/Google_Drive_logo.png/600px-Google_Drive_logo.png\" height=30px>      ___Mount / Unmount Gdrive!___"
      ]
    },
    {
      "cell_type": "code",
      "metadata": {
        "cellView": "form",
        "id": "e9rIEuXtd7iP",
        "outputId": "be749f7d-e192-4e7f-99d2-f380d7ba90a9",
        "colab": {
          "base_uri": "https://localhost:8080/"
        }
      },
      "source": [
        "#@markdown <br><center><img src='https://upload.wikimedia.org/wikipedia/commons/thumb/d/da/Google_Drive_logo.png/600px-Google_Drive_logo.png' height=\"50\" alt=\"Gdrive logo\"/></center>\n",
        "#@markdown <center><h3>Mount Gdrive to /content/drive</h3></center><br>\n",
        "MODE = \"MOUNT\" #@param [\"MOUNT\", \"UNMOUNT\"]\n",
        "#Mount your Gdrive! \n",
        "from google.colab import drive\n",
        "drive.mount._DEBUG = False\n",
        "if MODE == \"MOUNT\":\n",
        "  drive.mount('/content/drive', force_remount=True)\n",
        "elif MODE == \"UNMOUNT\":\n",
        "  try:\n",
        "    drive.flush_and_unmount()\n",
        "  except ValueError:\n",
        "    pass\n",
        "  get_ipython().system_raw(\"rm -rf /root/.config/Google/DriveFS\")"
      ],
      "execution_count": null,
      "outputs": [
        {
          "output_type": "stream",
          "text": [
            "Mounted at /content/drive\n"
          ],
          "name": "stdout"
        }
      ]
    },
    {
      "cell_type": "code",
      "metadata": {
        "cellView": "form",
        "id": "3R3_yanoeIa-"
      },
      "source": [
        "#@markdown <h4><b>←</b> ឵឵Click Here to <b>Force Remount</b> your Google Drive</h4>\n",
        "#@markdown <h5><i>(Only use if needed)</i></h5>\n",
        "drive.mount(\"/content/drive\", force_remount=True)"
      ],
      "execution_count": null,
      "outputs": []
    }
  ]
}